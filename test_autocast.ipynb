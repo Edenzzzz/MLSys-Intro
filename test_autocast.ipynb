{
 "cells": [
  {
   "cell_type": "code",
   "execution_count": 1,
   "metadata": {},
   "outputs": [],
   "source": [
    "import torch\n",
    "import torch.nn as nn\n",
    "\n",
    "class MLP(nn.Module):\n",
    "    def __init__(self, input_size, hidden_size, output_size):\n",
    "        super(MLP, self).__init__()\n",
    "        self.fc1 = nn.Linear(input_size, hidden_size, bias=False)\n",
    "        self.relu = nn.ReLU(inplace=True)\n",
    "        self.fc2 = nn.Linear(hidden_size, output_size, bias=False)\n",
    "        \n",
    "    def forward(self, x):\n",
    "        out = self.fc1(x)\n",
    "        out = self.relu(out)\n",
    "        out = self.fc2(out)\n",
    "        return out"
   ]
  },
  {
   "cell_type": "code",
   "execution_count": 2,
   "metadata": {},
   "outputs": [
    {
     "name": "stderr",
     "output_type": "stream",
     "text": [
      "/home/nvme-share/home/tanwenxuan/miniconda3/lib/python3.10/site-packages/tqdm/auto.py:21: TqdmWarning: IProgress not found. Please update jupyter and ipywidgets. See https://ipywidgets.readthedocs.io/en/stable/user_install.html\n",
      "  from .autonotebook import tqdm as notebook_tqdm\n"
     ]
    },
    {
     "name": "stdout",
     "output_type": "stream",
     "text": [
      "Peak memory without autocast: 112.00 MB\n",
      "Peak memory with autocast: 114.00 MB\n"
     ]
    }
   ],
   "source": [
    "net = MLP(1024, 1024, 1024).cuda()\n",
    "x = torch.randn(1024, 1024, device=\"cuda\")\n",
    "optim = torch.optim.Adam(net.parameters(), lr=0.01)\n",
    "\n",
    "for _ in range(20):\n",
    "    y = net(x)\n",
    "    y.mean().backward()\n",
    "    optim.step()\n",
    "    optim.zero_grad()\n",
    "    \n",
    "print(f\"Peak memory without autocast: {torch.cuda.max_memory_allocated() / 1024**2:.2f} MB\")\n",
    "torch.cuda.empty_cache()\n",
    "torch.cuda.reset_peak_memory_stats()\n",
    "\n",
    "\n",
    "with torch.autocast(\"cuda\", dtype=torch.bfloat16):\n",
    "    for _ in range(20):\n",
    "        y = net(x)\n",
    "        y.mean().backward()\n",
    "        optim.step()\n",
    "        optim.zero_grad()\n",
    "print(f\"Peak memory with autocast: {torch.cuda.max_memory_allocated() / 1024**2:.2f} MB\")\n",
    "    "
   ]
  }
 ],
 "metadata": {
  "kernelspec": {
   "display_name": "base",
   "language": "python",
   "name": "python3"
  },
  "language_info": {
   "codemirror_mode": {
    "name": "ipython",
    "version": 3
   },
   "file_extension": ".py",
   "mimetype": "text/x-python",
   "name": "python",
   "nbconvert_exporter": "python",
   "pygments_lexer": "ipython3",
   "version": "3.10.14"
  }
 },
 "nbformat": 4,
 "nbformat_minor": 2
}
